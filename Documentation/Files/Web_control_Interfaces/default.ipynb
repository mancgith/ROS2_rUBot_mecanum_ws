{
 "cells": [
  {
   "cell_type": "markdown",
   "metadata": {},
   "source": [
    "<img src=\"images/Open-Class-198.jpg\"/>"
   ]
  },
  {
   "cell_type": "markdown",
   "metadata": {},
   "source": [
    "<div class=\"bg-primary text-center\">\n",
    "    - Summary -\n",
    "</div>"
   ]
  },
  {
   "cell_type": "markdown",
   "metadata": {},
   "source": [
    "Creating a Web Dashboard for Sensor Data is a vital skill for monitoring real-time data in robotics and IoT applications. It allows efficient data visualization, improves interaction, and provides a framework for controlling and monitoring robotic systems remotely.\n",
    "\n",
    "In this Open Class, we’ll explore how to build an interactive web dashboard for sensor data using rosbridge_suite and roslibjs.\n",
    "\n",
    "What you'll learn:\n",
    "\n",
    "- Introduction to Web Dashboards in Robotics\n",
    "- Using ROSBridge to connect ROS2 with web interfaces\n",
    "- Leveraging roslibjs for real-time data visualization and interaction\n",
    "- Step-by-step guidance on building a dynamic dashboard for monitoring sensor data"
   ]
  },
  {
   "cell_type": "markdown",
   "metadata": {},
   "source": [
    "This rosject has been created by **Thisas Ranhiru Samaraweera** and **Alberto Ezquerro**."
   ]
  },
  {
   "cell_type": "markdown",
   "metadata": {},
   "source": [
    "<div class=\"bg-primary text-center\">\n",
    "    - Summary -\n",
    "</div>"
   ]
  },
  {
   "cell_type": "markdown",
   "metadata": {},
   "source": [
    "<div>\n",
    "    <h1 class=\"text-center\">\n",
    "        <span class=\"text-primary\">Introduction</span>\n",
    "        &nbsp;\n",
    "        <span class=\"\">Why have a Dashboard ? <br><img src=\"https://cdn.hiastro.com/wp-content/uploads/2022/05/14200010/Component-16-1.png\"  /></span>\n",
    "            \n",
    "\n",
    "    \n",
    "</div>"
   ]
  },
  {
   "cell_type": "markdown",
   "metadata": {},
   "source": [
    "Congratulations! You’ve built your very own robot, or perhaps you've programmed software for an existing one. When you launch your code, you can see the robot performing as expected.\n",
    "\n",
    "Ideally, you have your software set up so that a single script handles the entire robot bring-up, and you can verify in RViz2 that everything is functioning as intended!\n",
    "\n",
    "Now you hand off your finished work to your client—maybe it's an industrial robot in a factory or a service robot in a restaurant. You demonstrate that your system works and go home happy, but the next day, you get multiple phone calls: \"The robot is out of control! I don't know how to operate it!\"\n",
    "\n",
    "What happened is, while you understand how the system works and how to monitor the robot visually through RViz2, most people, especially non-technical users, are more accustomed to working with dashboards and one-click tools.\n",
    "\n",
    "This is why most robots used in companies come with web dashboards, allowing operators to easily control the robot's core functions and view diagnostic information, such as error codes, without needing to rely on development tools like RViz2 or combing through script logs to fix operational issues."
   ]
  },
  {
   "cell_type": "markdown",
   "metadata": {},
   "source": [
    "<div>\n",
    "    <h1 class=\"text-center\">\n",
    "        <span class=\"text-primary\">Mission Plan ✍️</span>\n",
    "        &nbsp;\n",
    "        <span class=\"\">The goal for this Open Class 📝</span>\n",
    "    </h1>\n",
    "</div>"
   ]
  },
  {
   "cell_type": "markdown",
   "metadata": {},
   "source": [
    "We are going to develop a web dashboard for our Limo robot. For this, we will be using `rosbridge` and `roslibjs`, allowing us to control the robot with buttons on the dashboard instead of using keyboard teleop directly on the robot."
   ]
  },
  {
   "cell_type": "markdown",
   "metadata": {},
   "source": [
    "<div>\n",
    "    <h1 class=\"text-center\">\n",
    "        <span class=\"\">Launch the simulation</span>\n",
    "    </h1>\n",
    "</div>"
   ]
  },
  {
   "cell_type": "markdown",
   "metadata": {},
   "source": [
    "To launch the project simulation:"
   ]
  },
  {
   "cell_type": "markdown",
   "metadata": {},
   "source": [
    "1. Open a terminal by clicking:"
   ]
  },
  {
   "cell_type": "markdown",
   "metadata": {},
   "source": [
    "<img src=\"images/terminal.png\"/>"
   ]
  },
  {
   "cell_type": "markdown",
   "metadata": {},
   "source": [
    "2. Run the launch commands: "
   ]
  },
  {
   "cell_type": "markdown",
   "metadata": {},
   "source": [
    "<span class=\"badge badge-pill badge-primary\">\n",
    "    <i class=\"fa fa-play\"></i>\n",
    "    &nbsp;\n",
    "    Execute in a Terminal\n",
    "</span>"
   ]
  },
  {
   "cell_type": "code",
   "execution_count": null,
   "metadata": {},
   "outputs": [],
   "source": [
    "source ~/ros2_ws/install/setup.bash\n",
    "ros2 launch limo_description limo_basic.launch.xml"
   ]
  },
  {
   "cell_type": "markdown",
   "metadata": {},
   "source": [
    "**Wait around 30 seconds** for simulation to start. It should automatically appear in a Gazebo window.\n",
    "\n",
    "If it doesn't automatically appear, open the Gazebo window by clicking:"
   ]
  },
  {
   "cell_type": "markdown",
   "metadata": {},
   "source": [
    "<img src=\"images/gazebo.png\"/>"
   ]
  },
  {
   "cell_type": "markdown",
   "metadata": {},
   "source": [
    "Gazebo window should show the limo world:"
   ]
  },
  {
   "cell_type": "markdown",
   "metadata": {},
   "source": [
    "<img src=\"images/sim.png\"/>"
   ]
  },
  {
   "cell_type": "markdown",
   "metadata": {},
   "source": [
    "<div>\n",
    "    <h1 class=\"text-center\">\n",
    "        <span class=\"\">What is the <code>ROSBridge server</code>?</span>\n",
    "    </h1>\n",
    "</div>"
   ]
  },
  {
   "cell_type": "markdown",
   "metadata": {},
   "source": [
    "In simple terms, rosbridge_server provides a bridge between ROS 2 and web-based or non-ROS applications, enabling you to send and receive ROS messages over the web or from other non-ROS systems. This is commonly used when you want to create web-based dashboards or interfaces to control a robot or visualize its data remotely.\n",
    "\n",
    "Some of the main functions of `rosbridge_server` include:\n",
    "\n",
    "1. Creating a WebSocket connection, which allows bidirectional communication between the robot and web browsers⁠⁠\n",
    "\n",
    "2. Exposing ROS's publish/subscribe functionality, enabling web applications to publish and subscribe to ROS topics⁠⁠\n",
    "\n",
    "3. Bridging the gap between ROS's TCP/UDP socket communication and web browsers, which don't have direct access to these protocols⁠⁠"
   ]
  },
  {
   "cell_type": "markdown",
   "metadata": {},
   "source": [
    "<div>\n",
    "    <h1 class=\"text-center\">\n",
    "        <span class=\"\">Installing <code>ROSBridge server</code></span>\n",
    "    </h1>\n",
    "</div>"
   ]
  },
  {
   "cell_type": "markdown",
   "metadata": {},
   "source": [
    "<span class=\"badge badge-pill badge-primary\">\n",
    "    <i class=\"fa fa-play\"></i>\n",
    "    &nbsp;\n",
    "    Execute in a Terminal\n",
    "</span>"
   ]
  },
  {
   "cell_type": "code",
   "execution_count": null,
   "metadata": {},
   "outputs": [],
   "source": [
    "sudo apt install ros-humble-rosbridge-server"
   ]
  },
  {
   "cell_type": "markdown",
   "metadata": {},
   "source": [
    "This will install in the system all the packages required for ROSbridge to work."
   ]
  },
  {
   "cell_type": "markdown",
   "metadata": {},
   "source": [
    "<div>\n",
    "    <h1 class=\"text-center\">\n",
    "        <span class=\"\">Running <code>ROSBridge server</code></span>\n",
    "    </h1>\n",
    "</div>"
   ]
  },
  {
   "cell_type": "markdown",
   "metadata": {},
   "source": [
    "To start the `rosbridge_server` you can execute the following command:"
   ]
  },
  {
   "cell_type": "markdown",
   "metadata": {},
   "source": [
    "<span class=\"badge badge-pill badge-primary\">\n",
    "    <i class=\"fa fa-play\"></i>\n",
    "    &nbsp;\n",
    "    Execute in a Terminal\n",
    "</span>"
   ]
  },
  {
   "cell_type": "code",
   "execution_count": null,
   "metadata": {},
   "outputs": [],
   "source": [
    "ros2 launch rosbridge_server main_rosbridge_launch.py"
   ]
  },
  {
   "cell_type": "markdown",
   "metadata": {},
   "source": [
    "<div>\n",
    "    <h1 class=\"text-center\">\n",
    "        <span class=\"\">Creating a Web Dashboard</span>\n",
    "    </h1>\n",
    "</div>"
   ]
  },
  {
   "cell_type": "markdown",
   "metadata": {},
   "source": [
    "To create the dashboard, we will be using plain HTML and JavaScript, but you can use any web framework as long as it can interface with roslibjs.\n",
    "\n",
    "There are also other ways to interface with rosbridge, such as using Python, Rust, or Java. This can help you develop applications and systems that communicate with your robot, such as creating a service to update the food delivery status for an autonomous delivery robot, so both users and the restaurant know when the food has arrived.\n",
    "\n",
    "Essentially, whenever you need to step outside the ROS 2 ecosystem and communicate with other types of software, you can easily use rosbridge with its standard WebSocket implementation, rather than dealing directly with raw DDS."
   ]
  },
  {
   "cell_type": "markdown",
   "metadata": {},
   "source": [
    "To get started open the Code editor."
   ]
  },
  {
   "cell_type": "markdown",
   "metadata": {},
   "source": [
    "<img src=\"images/editor.png\" />"
   ]
  },
  {
   "cell_type": "markdown",
   "metadata": {},
   "source": [
    "Then create an `index.html` inside the `webpage_ws` folder. "
   ]
  },
  {
   "cell_type": "markdown",
   "metadata": {},
   "source": [
    "<img src=\"images/create_index_page.png\">"
   ]
  },
  {
   "cell_type": "markdown",
   "metadata": {},
   "source": [
    "Now we can edit this file with some sample text. "
   ]
  },
  {
   "cell_type": "markdown",
   "metadata": {},
   "source": [
    "<span class=\"badge badge-pill badge-primary\">\n",
    "    <i class=\"fa fa-file\"></i>\n",
    "    &nbsp;\n",
    "    index.html\n",
    "</span>"
   ]
  },
  {
   "cell_type": "code",
   "execution_count": null,
   "metadata": {},
   "outputs": [],
   "source": [
    "<h1> Hello Construct </h1>"
   ]
  },
  {
   "cell_type": "markdown",
   "metadata": {},
   "source": [
    "Once we have added the contents of our webpage we can now serve it to the internet. "
   ]
  },
  {
   "cell_type": "markdown",
   "metadata": {},
   "source": [
    "<span class=\"badge badge-pill badge-primary\">\n",
    "    <i class=\"fa fa-play\"></i>\n",
    "    &nbsp;\n",
    "    Execute in a Terminal\n",
    "</span>"
   ]
  },
  {
   "cell_type": "code",
   "execution_count": null,
   "metadata": {},
   "outputs": [],
   "source": [
    "cd ~/webpage_ws\n",
    "python3 -m http.server 7000"
   ]
  },
  {
   "cell_type": "markdown",
   "metadata": {},
   "source": [
    "Now to get our web page address we need to type. "
   ]
  },
  {
   "cell_type": "markdown",
   "metadata": {},
   "source": [
    "<span class=\"badge badge-pill badge-primary\">\n",
    "    <i class=\"fa fa-play\"></i>\n",
    "    &nbsp;\n",
    "    Execute in a Terminal\n",
    "</span>"
   ]
  },
  {
   "cell_type": "code",
   "execution_count": null,
   "metadata": {},
   "outputs": [],
   "source": [
    "webpage_address"
   ]
  },
  {
   "cell_type": "markdown",
   "metadata": {},
   "source": [
    "Copy that link and open it in your browser. "
   ]
  },
  {
   "cell_type": "markdown",
   "metadata": {},
   "source": [
    "You should see the text that you wrote."
   ]
  },
  {
   "cell_type": "markdown",
   "metadata": {},
   "source": [
    "<img src=\"images/hello_construct.png\" />"
   ]
  },
  {
   "cell_type": "markdown",
   "metadata": {},
   "source": [
    "**NOTE**: This web page will only exist for as long as the rosject is open, it will be closed when the rosject is closed, so if you want to add this Open Class to your CV just include the link to your rosject instead."
   ]
  },
  {
   "cell_type": "markdown",
   "metadata": {},
   "source": [
    "<div>\n",
    "    <h1 class=\"text-center\">\n",
    "        <span class=\"\">Connecting to ROSBridge</span>\n",
    "    </h1>\n",
    "</div>"
   ]
  },
  {
   "cell_type": "markdown",
   "metadata": {},
   "source": [
    "Now that we can spin up a web server for our webpage and see that our changes are reflected, let's use `roslibjs` to connect to our `rosbridge_server`."
   ]
  },
  {
   "cell_type": "markdown",
   "metadata": {},
   "source": [
    "Let's add the basic structure to our Web Dashboard. "
   ]
  },
  {
   "cell_type": "markdown",
   "metadata": {},
   "source": [
    "<span class=\"badge badge-pill badge-primary\">\n",
    "    <i class=\"fa fa-file\"></i>\n",
    "    &nbsp;\n",
    "    index.html\n",
    "</span>"
   ]
  },
  {
   "cell_type": "code",
   "execution_count": null,
   "metadata": {},
   "outputs": [],
   "source": [
    "<!DOCTYPE html>\n",
    "<html lang=\"en\">\n",
    "\n",
    "<head>\n",
    "    <meta charset=\"UTF-8\">\n",
    "    <meta name=\"viewport\" content=\"width=device-width, initial-scale=1.0\">\n",
    "    <title>ROS Web Dashboard</title>\n",
    "    <style>\n",
    "        body {\n",
    "            font-family: Arial, sans-serif;\n",
    "            margin: 0;\n",
    "            padding: 20px;\n",
    "            background-color: #f0f0f0;\n",
    "        }\n",
    "    </style>\n",
    "</head>\n",
    "\n",
    "<body>\n",
    "\n",
    "<!-- Here is where our dashboard elements will be  -->\n",
    "\n",
    "</body>\n",
    "\n",
    "</html>"
   ]
  },
  {
   "cell_type": "markdown",
   "metadata": {},
   "source": [
    "Now let's add `roslibjs`. "
   ]
  },
  {
   "cell_type": "markdown",
   "metadata": {},
   "source": [
    "We will be using the roslibjs v1 version as there is prebuilt library that we can just import on the head of our page. "
   ]
  },
  {
   "cell_type": "code",
   "execution_count": null,
   "metadata": {},
   "outputs": [],
   "source": [
    "    <script src=\"https://cdn.jsdelivr.net/npm/roslib@1/build/roslib.min.js\"></script>"
   ]
  },
  {
   "cell_type": "markdown",
   "metadata": {},
   "source": [
    "Then we need to be able to provide our rosbridge address. \n",
    "\n",
    "For this we will be making a form in which we can enter the address and the library can make the websocket connection needed to communicate with our robot."
   ]
  },
  {
   "cell_type": "code",
   "execution_count": null,
   "metadata": {},
   "outputs": [],
   "source": [
    "    <div class=\"connection-form\">\n",
    "        <input type=\"text\" id=\"rosbridge-address\" placeholder=\"ws://localhost:9090\">\n",
    "        <button onclick=\"connectToROS()\">Connect</button>\n",
    "    </div>"
   ]
  },
  {
   "cell_type": "markdown",
   "metadata": {},
   "source": [
    "This will be in the body of our web page. \n",
    "\n",
    "We can add some css to the head of the page to make the formatting a little better"
   ]
  },
  {
   "cell_type": "code",
   "execution_count": null,
   "metadata": {},
   "outputs": [],
   "source": [
    "        .connection-form {\n",
    "            width: 100%;\n",
    "            margin-bottom: 20px;\n",
    "        }"
   ]
  },
  {
   "cell_type": "markdown",
   "metadata": {},
   "source": [
    "This will be within the style tag in the head of the page. \n",
    "\n",
    "You might have noticed earlier that the button has an `onclick` attribute that points to a function. We will have to write that function now. \n",
    "\n",
    "Inside the body you will have to create a new script tag, within it you will have to add the following."
   ]
  },
  {
   "cell_type": "code",
   "execution_count": null,
   "metadata": {},
   "outputs": [],
   "source": [
    "    <script>\n",
    "        let ros;\n",
    "\n",
    "        function connectToROS() {\n",
    "            const rosbridgeAddress = document.getElementById('rosbridge-address').value;\n",
    "            ros = new ROSLIB.Ros({\n",
    "                url: rosbridgeAddress\n",
    "            });\n",
    "\n",
    "            ros.on('connection', function () {\n",
    "                console.log('Connected to rosbridge server.');\n",
    "                // Connected ! \n",
    "                // We can now pull date from the topics. \n",
    "            });\n",
    "\n",
    "            ros.on('error', function (error) {\n",
    "                console.error('Error connecting to rosbridge server:', error);\n",
    "            });\n",
    "\n",
    "            ros.on('close', function () {\n",
    "                console.log('Connection to rosbridge server closed.');\n",
    "            });\n",
    "        }\n",
    "\n",
    "    </script>"
   ]
  },
  {
   "cell_type": "markdown",
   "metadata": {},
   "source": [
    "Here what we are doing is creating a new ROSLIB.Ros object and passing our rosbridge address as a parameter. \n",
    "\n",
    "Now the rosbridge itself can output one of three states,\n",
    "\n",
    "1. `'connection'` in which we have a successful connection with the rosbridge\n",
    "2. `'error'` where some kind of error prevented connecting to the rosbrige \n",
    "3. `'close'` where the server closes the connection (eg the robot shut down) \n",
    "\n",
    "Once we get a proper ‘connection’ we will be able to pull and send data from and to the topics.\n",
    "\n",
    "The final version of the page should be like this:"
   ]
  },
  {
   "cell_type": "markdown",
   "metadata": {},
   "source": [
    "<span class=\"badge badge-pill badge-primary\">\n",
    "    <i class=\"fa fa-file\"></i>\n",
    "    &nbsp;\n",
    "    index.html\n",
    "</span>"
   ]
  },
  {
   "cell_type": "code",
   "execution_count": null,
   "metadata": {},
   "outputs": [],
   "source": [
    "<!DOCTYPE html>\n",
    "<html lang=\"en\">\n",
    "\n",
    "<head>\n",
    "    <meta charset=\"UTF-8\">\n",
    "    <meta name=\"viewport\" content=\"width=device-width, initial-scale=1.0\">\n",
    "    <title>ROS Web Dashboard</title>\n",
    "    <script src=\"https://cdn.jsdelivr.net/npm/roslib@1/build/roslib.min.js\"></script>\n",
    "    <style>\n",
    "        body {\n",
    "            font-family: Arial, sans-serif;\n",
    "            margin: 0;\n",
    "            padding: 20px;\n",
    "            background-color: #f0f0f0;\n",
    "        }\n",
    "\n",
    "        .connection-form {\n",
    "            width: 100%;\n",
    "            margin-bottom: 20px;\n",
    "        }\n",
    "    </style>\n",
    "</head>\n",
    "\n",
    "<body>\n",
    "    <div class=\"connection-form\">\n",
    "        <input type=\"text\" id=\"rosbridge-address\" placeholder=\"ws://localhost:9090\">\n",
    "        <button onclick=\"connectToROS()\">Connect</button>\n",
    "    </div>\n",
    "\n",
    "    <script>\n",
    "        let ros;\n",
    "\n",
    "        function connectToROS() {\n",
    "            const rosbridgeAddress = document.getElementById('rosbridge-address').value;\n",
    "            ros = new ROSLIB.Ros({\n",
    "                url: rosbridgeAddress\n",
    "            });\n",
    "\n",
    "            ros.on('connection', function () {\n",
    "                console.log('Connected to rosbridge server.');\n",
    "                // Connected ! \n",
    "                // We can now pull date from the topics. \n",
    "            });\n",
    "\n",
    "            ros.on('error', function (error) {\n",
    "                console.error('Error connecting to rosbridge server:', error);\n",
    "            });\n",
    "\n",
    "            ros.on('close', function () {\n",
    "                console.log('Connection to rosbridge server closed.');\n",
    "            });\n",
    "        }\n",
    "\n",
    "    </script>\n",
    "</body>\n",
    "\n",
    "</html>"
   ]
  },
  {
   "cell_type": "markdown",
   "metadata": {},
   "source": [
    "Now, if you open this webpage you will see something like this:"
   ]
  },
  {
   "cell_type": "markdown",
   "metadata": {},
   "source": [
    "<img src=\"images/basic_connection.png\" />"
   ]
  },
  {
   "cell_type": "markdown",
   "metadata": {},
   "source": [
    "In order to get the rosbridge address you can run the following command:"
   ]
  },
  {
   "cell_type": "markdown",
   "metadata": {},
   "source": [
    "<span class=\"badge badge-pill badge-primary\">\n",
    "    <i class=\"fa fa-play\"></i>\n",
    "    &nbsp;\n",
    "    Execute in a Terminal\n",
    "</span>"
   ]
  },
  {
   "cell_type": "code",
   "execution_count": null,
   "metadata": {},
   "outputs": [],
   "source": [
    "rosbridge_address"
   ]
  },
  {
   "cell_type": "markdown",
   "metadata": {},
   "source": [
    "When you enter the `rosbridge_address` and click the `Connect` button, you will establish the connection with ROS. You should be able to read the message `Connected to rosbridge server` if you open the Developer tools for your browser."
   ]
  },
  {
   "cell_type": "markdown",
   "metadata": {},
   "source": [
    "<div>\n",
    "    <h1 class=\"text-center\">\n",
    "        <span class=\"\">What is <code>roslibjs</code>?</span>\n",
    "    </h1>\n",
    "</div>"
   ]
  },
  {
   "cell_type": "markdown",
   "metadata": {},
   "source": [
    "In this setup, `roslibjs` plays a key role as the JavaScript library that allows the web dashboard to communicate with the ROS system via the `rosbridge_server`. Specifically, it provides an easy way to interact with ROS topics, services, and parameters through a WebSocket connection, which allows real-time communication between the webpage and ROS.\n",
    "\n",
    "### How They Work Together?\n",
    "\n",
    "- `rosbridge_server` runs on the ROS machine and opens up a WebSocket connection to which clients can connect.\n",
    "\n",
    "- `roslibjs` is used on the client side (in the web browser) to establish a connection to rosbridge_server and interact with the ROS system. It translates user commands into ROS messages and receives ROS data via WebSockets.\n",
    "\n",
    "In short:\n",
    "\n",
    "- `roslibjs` is the client-side library that you use to write JavaScript code to interact with ROS.\n",
    "\n",
    "- `rosbridge_server` is the ROS-side server that enables external, non-ROS clients (like a web browser) to communicate with the ROS system."
   ]
  },
  {
   "cell_type": "markdown",
   "metadata": {},
   "source": [
    "<div>\n",
    "    <h1 class=\"text-center\">\n",
    "        <span class=\"\">Getting data from a topic </span>\n",
    "    </h1>\n",
    "</div>"
   ]
  },
  {
   "cell_type": "markdown",
   "metadata": {},
   "source": [
    "Now that we have a successful connection, we want to be able to get data from our ROS topics. \n",
    "\n",
    "If you run a `ros2 topic list` command, you will see that we have many types of data that we can visualise."
   ]
  },
  {
   "cell_type": "markdown",
   "metadata": {},
   "source": [
    "<img src=\"images/topics.png\" width=\"400\" />"
   ]
  },
  {
   "cell_type": "markdown",
   "metadata": {},
   "source": [
    "Let's start by trying to show the position of the robot in `x` and `y`. \n",
    "\n",
    "Once we are connected let's trigger a new function to subscribe to our topics."
   ]
  },
  {
   "cell_type": "code",
   "execution_count": null,
   "metadata": {},
   "outputs": [],
   "source": [
    "          ros.on('connection', function () {\n",
    "                console.log('Connected to rosbridge server.');\n",
    "                setupTopics();\n",
    "            });"
   ]
  },
  {
   "cell_type": "markdown",
   "metadata": {},
   "source": [
    "And let us write this `setupTopics` function. "
   ]
  },
  {
   "cell_type": "code",
   "execution_count": null,
   "metadata": {},
   "outputs": [],
   "source": [
    "        function setupTopics() {\n",
    "            // Set up odometry topic\n",
    "            const odomTopic = new ROSLIB.Topic({\n",
    "                ros: ros,\n",
    "                name: '/odom',\n",
    "                messageType: 'nav_msgs/Odometry'\n",
    "            });\n",
    "\n",
    "            odomTopic.subscribe(function (message) {\n",
    "                document.getElementById('position-x').textContent = message.pose.pose.position.x.toFixed(2);\n",
    "                document.getElementById('position-y').textContent = message.pose.pose.position.y.toFixed(2);\n",
    "            });\n",
    "        }\n"
   ]
  },
  {
   "cell_type": "markdown",
   "metadata": {},
   "source": [
    "Here we specify a topic called `odomTopic`, we pass the `ros` object, the name of the topic  and the message type. \n",
    "\n",
    "Then we subscribe to the topic using `.subscribe` and add a callback function. This function receives the message and changes the text inside any element of the html page with ‘position-x’ and ‘position-y’ to the respective pose.\n",
    "\n",
    "Note that this callback can also be written separately then passed in which may be useful if you are doing something more complicated like processing that data. \n",
    "\n",
    "Now, below our connection form, let's add the `position-x` and `position-y` elements to be displayed:"
   ]
  },
  {
   "cell_type": "code",
   "execution_count": null,
   "metadata": {},
   "outputs": [],
   "source": [
    "    <div class=\"dashboard\">\n",
    "        <div class=\"position-display\">\n",
    "            <h3>Position</h3>\n",
    "            <p>X: <span id=\"position-x\">0</span></p>\n",
    "            <p>Y: <span id=\"position-y\">0</span></p>\n",
    "        </div>\n",
    "    </div>"
   ]
  },
  {
   "cell_type": "markdown",
   "metadata": {},
   "source": [
    "Then add a little bit of styling:"
   ]
  },
  {
   "cell_type": "code",
   "execution_count": null,
   "metadata": {},
   "outputs": [],
   "source": [
    "        .dashboard {\n",
    "            display: flex;\n",
    "            flex-wrap: wrap;\n",
    "            gap: 20px;\n",
    "        }\n",
    "\n",
    "        .position-display {\n",
    "            width: 200px;\n",
    "            padding: 10px;\n",
    "            background-color: #fff;\n",
    "            border-radius: 5px;\n",
    "        }"
   ]
  },
  {
   "cell_type": "markdown",
   "metadata": {},
   "source": [
    "Now the full code should look like this."
   ]
  },
  {
   "cell_type": "markdown",
   "metadata": {},
   "source": [
    "<span class=\"badge badge-pill badge-primary\">\n",
    "    <i class=\"fa fa-file\"></i>\n",
    "    &nbsp;\n",
    "    index.html\n",
    "</span>"
   ]
  },
  {
   "cell_type": "code",
   "execution_count": null,
   "metadata": {},
   "outputs": [],
   "source": [
    "<!DOCTYPE html>\n",
    "<html lang=\"en\">\n",
    "\n",
    "<head>\n",
    "    <meta charset=\"UTF-8\">\n",
    "    <meta name=\"viewport\" content=\"width=device-width, initial-scale=1.0\">\n",
    "    <title>ROS Web Dashboard</title>\n",
    "    <script src=\"https://cdn.jsdelivr.net/npm/roslib@1/build/roslib.min.js\"></script>\n",
    "    <style>\n",
    "        body {\n",
    "            font-family: Arial, sans-serif;\n",
    "            margin: 0;\n",
    "            padding: 20px;\n",
    "            background-color: #f0f0f0;\n",
    "        }\n",
    "\n",
    "        .dashboard {\n",
    "            display: flex;\n",
    "            flex-wrap: wrap;\n",
    "            gap: 20px;\n",
    "        }\n",
    "\n",
    "        .connection-form {\n",
    "            width: 100%;\n",
    "            margin-bottom: 20px;\n",
    "        }\n",
    "\n",
    "\n",
    "        .position-display {\n",
    "            width: 200px;\n",
    "            padding: 10px;\n",
    "            background-color: #fff;\n",
    "            border-radius: 5px;\n",
    "        }\n",
    "    </style>\n",
    "</head>\n",
    "\n",
    "<body>\n",
    "    <div class=\"connection-form\">\n",
    "        <input type=\"text\" id=\"rosbridge-address\" placeholder=\"ws://localhost:9090\">\n",
    "        <button onclick=\"connectToROS()\">Connect</button>\n",
    "    </div>\n",
    "    <div class=\"dashboard\">\n",
    "        <div class=\"position-display\">\n",
    "            <h3>Position</h3>\n",
    "            <p>X: <span id=\"position-x\">0</span></p>\n",
    "            <p>Y: <span id=\"position-y\">0</span></p>\n",
    "        </div>\n",
    "    </div>\n",
    "\n",
    "    <script>\n",
    "        let ros;\n",
    "\n",
    "        function connectToROS() {\n",
    "            const rosbridgeAddress = document.getElementById('rosbridge-address').value;\n",
    "            ros = new ROSLIB.Ros({\n",
    "                url: rosbridgeAddress\n",
    "            });\n",
    "\n",
    "            ros.on('connection', function () {\n",
    "                console.log('Connected to rosbridge server.');\n",
    "                setupTopics();\n",
    "            });\n",
    "\n",
    "            ros.on('error', function (error) {\n",
    "                console.error('Error connecting to rosbridge server:', error);\n",
    "            });\n",
    "\n",
    "            ros.on('close', function () {\n",
    "                console.log('Connection to rosbridge server closed.');\n",
    "            });\n",
    "        }\n",
    "\n",
    "        function setupTopics() {\n",
    "            // Set up odometry topic\n",
    "            const odomTopic = new ROSLIB.Topic({\n",
    "                ros: ros,\n",
    "                name: '/odom',\n",
    "                messageType: 'nav_msgs/Odometry'\n",
    "            });\n",
    "\n",
    "            odomTopic.subscribe(function (message) {\n",
    "                document.getElementById('position-x').textContent = message.pose.pose.position.x.toFixed(2);\n",
    "                document.getElementById('position-y').textContent = message.pose.pose.position.y.toFixed(2);\n",
    "            });\n",
    "        }\n",
    "\n",
    "\n",
    "    </script>\n",
    "</body>\n",
    "\n",
    "</html>"
   ]
  },
  {
   "cell_type": "markdown",
   "metadata": {},
   "source": [
    "The updated page should look something like this:"
   ]
  },
  {
   "cell_type": "markdown",
   "metadata": {},
   "source": [
    "<img src=\"images/odom.png\" />"
   ]
  },
  {
   "cell_type": "markdown",
   "metadata": {},
   "source": [
    "You can move the robot around with the following program:"
   ]
  },
  {
   "cell_type": "markdown",
   "metadata": {},
   "source": [
    "<span class=\"badge badge-pill badge-primary\">\n",
    "    <i class=\"fa fa-play\"></i>\n",
    "    &nbsp;\n",
    "    Execute in a Terminal\n",
    "</span>"
   ]
  },
  {
   "cell_type": "code",
   "execution_count": null,
   "metadata": {},
   "outputs": [],
   "source": [
    "ros2 run teleop_twist_keyboard teleop_twist_keyboard"
   ]
  },
  {
   "cell_type": "markdown",
   "metadata": {},
   "source": [
    "You should see that the odom data updates in real time in the webpage. "
   ]
  },
  {
   "cell_type": "markdown",
   "metadata": {},
   "source": [
    "But it would be much better if we were able to move the robot through the dashboard too, right ? "
   ]
  },
  {
   "cell_type": "markdown",
   "metadata": {},
   "source": [
    "To be able to move the robot through a virtual joystick we will be using another small library called `nippleJS`  (https://github.com/yoannmoinet/nipplejs) which provides an easy way to add joystick to any website.\n",
    "\n",
    "To include this library we can import it through a CDN."
   ]
  },
  {
   "cell_type": "code",
   "execution_count": null,
   "metadata": {},
   "outputs": [],
   "source": [
    "    <script src=\"https://cdnjs.cloudflare.com/ajax/libs/nipplejs/0.9.0/nipplejs.min.js\"></script>"
   ]
  },
  {
   "cell_type": "markdown",
   "metadata": {},
   "source": [
    "Then we need to setup a new topic called `cmdVelTopic`. Here you’ll notice that we are not creating the variable but assigning the value. "
   ]
  },
  {
   "cell_type": "code",
   "execution_count": null,
   "metadata": {},
   "outputs": [],
   "source": [
    "            // Set up cmd_vel topic\n",
    "            cmdVelTopic = new ROSLIB.Topic({\n",
    "                ros: ros,\n",
    "                name: '/cmd_vel',\n",
    "                messageType: 'geometry_msgs/Twist'\n",
    "            });"
   ]
  },
  {
   "cell_type": "markdown",
   "metadata": {},
   "source": [
    "The `cmdVelTopic` variable in this case will be a global since we will want to interface to it through the joystick which is in a seperate function."
   ]
  },
  {
   "cell_type": "code",
   "execution_count": null,
   "metadata": {},
   "outputs": [],
   "source": [
    "        let ros;\n",
    "        let cmdVelTopic;\n",
    "        let joystick;"
   ]
  },
  {
   "cell_type": "markdown",
   "metadata": {},
   "source": [
    "So you need to initialise it just bellow the ros variable. \n",
    "\n",
    "We will add a new function in the bottom."
   ]
  },
  {
   "cell_type": "code",
   "execution_count": null,
   "metadata": {},
   "outputs": [],
   "source": [
    "          // Set up joystick\n",
    "            setupJoystick();"
   ]
  },
  {
   "cell_type": "markdown",
   "metadata": {},
   "source": [
    "And define the `setupJoystick` function:"
   ]
  },
  {
   "cell_type": "code",
   "execution_count": null,
   "metadata": {},
   "outputs": [],
   "source": [
    "        function setupJoystick() {\n",
    "            const options = {\n",
    "                zone: document.getElementById('joystick'),\n",
    "                mode: 'static',\n",
    "                position: {left: '50%', top: '50%'},\n",
    "                color: 'blue',\n",
    "                size: 150\n",
    "            };\n",
    "\n",
    "            joystick = nipplejs.create(options);\n",
    "\n",
    "            joystick.on('move', function (evt, data) {\n",
    "                const maxSpeed = 1.0; // m/s\n",
    "                const maxTurn = 1.0; // rad/s\n",
    "\n",
    "                const linear = Math.sin(data.angle.radian) * maxSpeed * data.distance / 75;\n",
    "                const angular = -Math.cos(data.angle.radian) * maxTurn * data.distance / 75;\n",
    "\n",
    "                const twist = new ROSLIB.Message({\n",
    "                    linear: {x: linear, y: 0, z: 0},\n",
    "                    angular: {x: 0, y: 0, z: angular}\n",
    "                });\n",
    "\n",
    "                cmdVelTopic.publish(twist);\n",
    "            });\n",
    "\n",
    "            joystick.on('end', function () {\n",
    "                const twist = new ROSLIB.Message({\n",
    "                    linear: {x: 0, y: 0, z: 0},\n",
    "                    angular: {x: 0, y: 0, z: 0}\n",
    "                });\n",
    "\n",
    "                cmdVelTopic.publish(twist);\n",
    "            });\n",
    "        }"
   ]
  },
  {
   "cell_type": "markdown",
   "metadata": {},
   "source": [
    "We create a new joystick object and then much like with ROSLIB we will use the `.on` notation to assign callbacks to specific actions.\n",
    "\n",
    "In this case it can be one of two.\n",
    "\n",
    "1. ‘move’ : which is when the joystick is moving in which case we translate the position of the joystick into a twist command that we send to the robot. \n",
    "2. ‘end’ : which is when the joystick is not moving in which we send a stop command to the robot so it does not continue the previous command. \n",
    "\n",
    "Then we will want to add the joystick element to the html part of the page."
   ]
  },
  {
   "cell_type": "code",
   "execution_count": null,
   "metadata": {},
   "outputs": [],
   "source": [
    "        <div class=\"joystick-container\" id=\"joystick\"></div>"
   ]
  },
  {
   "cell_type": "markdown",
   "metadata": {},
   "source": [
    "And some styling. "
   ]
  },
  {
   "cell_type": "code",
   "execution_count": null,
   "metadata": {},
   "outputs": [],
   "source": [
    "        .joystick-container {\n",
    "            width: 200px;\n",
    "            height: 200px;\n",
    "            background-color: #ddd;\n",
    "            border-radius: 50%;\n",
    "            position: relative;\n",
    "            overflow: hidden;\n",
    "        }\n"
   ]
  },
  {
   "cell_type": "markdown",
   "metadata": {},
   "source": [
    "So our full code becomes:"
   ]
  },
  {
   "cell_type": "markdown",
   "metadata": {},
   "source": [
    "<span class=\"badge badge-pill badge-primary\">\n",
    "    <i class=\"fa fa-file\"></i>\n",
    "    &nbsp;\n",
    "    index.html\n",
    "</span>"
   ]
  },
  {
   "cell_type": "code",
   "execution_count": null,
   "metadata": {},
   "outputs": [],
   "source": [
    "<!DOCTYPE html>\n",
    "<html lang=\"en\">\n",
    "\n",
    "<head>\n",
    "    <meta charset=\"UTF-8\">\n",
    "    <meta name=\"viewport\" content=\"width=device-width, initial-scale=1.0\">\n",
    "    <title>ROS Web Dashboard</title>\n",
    "    <script src=\"https://cdn.jsdelivr.net/npm/roslib@1/build/roslib.min.js\"></script>\n",
    "    <script src=\"https://cdnjs.cloudflare.com/ajax/libs/nipplejs/0.9.0/nipplejs.min.js\"></script>\n",
    "    <style>\n",
    "        body {\n",
    "            font-family: Arial, sans-serif;\n",
    "            margin: 0;\n",
    "            padding: 20px;\n",
    "            background-color: #f0f0f0;\n",
    "        }\n",
    "\n",
    "        .dashboard {\n",
    "            display: flex;\n",
    "            flex-wrap: wrap;\n",
    "            gap: 20px;\n",
    "        }\n",
    "\n",
    "        .connection-form {\n",
    "            width: 100%;\n",
    "            margin-bottom: 20px;\n",
    "        }\n",
    "\n",
    "        .joystick-container {\n",
    "            width: 200px;\n",
    "            height: 200px;\n",
    "            background-color: #ddd;\n",
    "            border-radius: 50%;\n",
    "            position: relative;\n",
    "            overflow: hidden;\n",
    "        }\n",
    "\n",
    "        .position-display {\n",
    "            width: 200px;\n",
    "            padding: 10px;\n",
    "            background-color: #fff;\n",
    "            border-radius: 5px;\n",
    "        }\n",
    "    </style>\n",
    "</head>\n",
    "\n",
    "<body>\n",
    "    <div class=\"connection-form\">\n",
    "        <input type=\"text\" id=\"rosbridge-address\" placeholder=\"ws://localhost:9090\">\n",
    "        <button onclick=\"connectToROS()\">Connect</button>\n",
    "    </div>\n",
    "    <div class=\"dashboard\">\n",
    "        <div class=\"joystick-container\" id=\"joystick\"></div>\n",
    "        <div class=\"position-display\">\n",
    "            <h3>Position</h3>\n",
    "            <p>X: <span id=\"position-x\">0</span></p>\n",
    "            <p>Y: <span id=\"position-y\">0</span></p>\n",
    "        </div>\n",
    "    </div>\n",
    "\n",
    "    <script>\n",
    "        let ros;\n",
    "        let cmdVelTopic;\n",
    "        let joystick;\n",
    "\n",
    "        function connectToROS() {\n",
    "            const rosbridgeAddress = document.getElementById('rosbridge-address').value;\n",
    "            ros = new ROSLIB.Ros({\n",
    "                url: rosbridgeAddress\n",
    "            });\n",
    "\n",
    "            ros.on('connection', function () {\n",
    "                console.log('Connected to rosbridge server.');\n",
    "                setupTopics();\n",
    "            });\n",
    "\n",
    "            ros.on('error', function (error) {\n",
    "                console.error('Error connecting to rosbridge server:', error);\n",
    "            });\n",
    "\n",
    "            ros.on('close', function () {\n",
    "                console.log('Connection to rosbridge server closed.');\n",
    "            });\n",
    "        }\n",
    "\n",
    "        function setupTopics() {\n",
    "            // Set up cmd_vel topic\n",
    "            cmdVelTopic = new ROSLIB.Topic({\n",
    "                ros: ros,\n",
    "                name: '/cmd_vel',\n",
    "                messageType: 'geometry_msgs/Twist'\n",
    "            });\n",
    "\n",
    "            // Set up odometry topic\n",
    "            const odomTopic = new ROSLIB.Topic({\n",
    "                ros: ros,\n",
    "                name: '/odom',\n",
    "                messageType: 'nav_msgs/Odometry'\n",
    "            });\n",
    "\n",
    "            odomTopic.subscribe(function (message) {\n",
    "                document.getElementById('position-x').textContent = message.pose.pose.position.x.toFixed(2);\n",
    "                document.getElementById('position-y').textContent = message.pose.pose.position.y.toFixed(2);\n",
    "            });\n",
    "\n",
    "            // Set up joystick\n",
    "            setupJoystick();\n",
    "        }\n",
    "\n",
    "        function setupJoystick() {\n",
    "            const options = {\n",
    "                zone: document.getElementById('joystick'),\n",
    "                mode: 'static',\n",
    "                position: {left: '50%', top: '50%'},\n",
    "                color: 'blue',\n",
    "                size: 150\n",
    "            };\n",
    "\n",
    "            joystick = nipplejs.create(options);\n",
    "\n",
    "            joystick.on('move', function (evt, data) {\n",
    "                const maxSpeed = 1.0; // m/s\n",
    "                const maxTurn = 1.0; // rad/s\n",
    "\n",
    "                const linear = Math.sin(data.angle.radian) * maxSpeed * data.distance / 75;\n",
    "                const angular = -Math.cos(data.angle.radian) * maxTurn * data.distance / 75;\n",
    "\n",
    "                const twist = new ROSLIB.Message({\n",
    "                    linear: {x: linear, y: 0, z: 0},\n",
    "                    angular: {x: 0, y: 0, z: angular}\n",
    "                });\n",
    "\n",
    "                cmdVelTopic.publish(twist);\n",
    "            });\n",
    "\n",
    "            joystick.on('end', function () {\n",
    "                const twist = new ROSLIB.Message({\n",
    "                    linear: {x: 0, y: 0, z: 0},\n",
    "                    angular: {x: 0, y: 0, z: 0}\n",
    "                });\n",
    "\n",
    "                cmdVelTopic.publish(twist);\n",
    "            });\n",
    "        }\n",
    "    </script>\n",
    "</body>\n",
    "\n",
    "</html>"
   ]
  },
  {
   "cell_type": "markdown",
   "metadata": {},
   "source": [
    "The updated page should look like this:"
   ]
  },
  {
   "cell_type": "markdown",
   "metadata": {},
   "source": [
    "<img src=\"images/joystick.png\" />"
   ]
  },
  {
   "cell_type": "markdown",
   "metadata": {},
   "source": [
    "<div>\n",
    "    <h1 class=\"text-center\">\n",
    "        <span class=\"\">Bonus ! Getting images from a topic </span>\n",
    "    </h1>\n",
    "</div>"
   ]
  },
  {
   "cell_type": "markdown",
   "metadata": {},
   "source": [
    "Great work so far ! \n",
    "\n",
    "Now we can move our robot and visualize our position in the webpage. But we can’t really ‘see’ what the robot is seeing.\n",
    "\n",
    "We know that there are some image topics that we might be able to use when we executed the `ros2 topic list` command. \n",
    "\n",
    "So let's try to add a camera view. This way, when we control the robot, we don’t need to look to the simulation to check if it actually moved, and we can fully teleoperate the robot from the webpage. \n",
    "\n",
    "Now you already know from the odom example a bit of what you have to do. \n",
    "\n",
    "1. Setup a imageTopic pointing to ros, name and message type\n",
    "    1. You will need to use topic `/camera/image_raw/compressed`\n",
    "    2. Message type is `sensor_msgs/CompressedImage`\n",
    "    \n",
    "    \n",
    "2. Subscribe to the topic and add a function callback to display the image\n",
    "    1. Use `document.getElementById('camera-feed').src = \"data:image/jpeg;base64,\" + message.data;`  to display the data to a &lt;img&gt; element\n",
    "    \n",
    "    \n",
    "3. Add a image tag with the id `camera-feed` \n",
    "\n",
    "\n",
    "4. Add some styling to make it fit on the dashboard properly."
   ]
  },
  {
   "cell_type": "markdown",
   "metadata": {},
   "source": [
    "The final result should look something like this:"
   ]
  },
  {
   "cell_type": "markdown",
   "metadata": {},
   "source": [
    "<img src=\"images/open_class_dashboard.gif\" />"
   ]
  },
  {
   "cell_type": "markdown",
   "metadata": {},
   "source": [
    "## Full Code "
   ]
  },
  {
   "cell_type": "markdown",
   "metadata": {},
   "source": [
    "Hey ! No Cheating ! Make sure to try your best before double checking with this code. "
   ]
  },
  {
   "cell_type": "markdown",
   "metadata": {},
   "source": [
    "<span class=\"badge badge-pill badge-primary\">\n",
    "    <i class=\"fa fa-file\"></i>\n",
    "    &nbsp;\n",
    "    index.html\n",
    "</span>"
   ]
  },
  {
   "cell_type": "code",
   "execution_count": null,
   "metadata": {},
   "outputs": [],
   "source": [
    "<!DOCTYPE html>\n",
    "<html lang=\"en\">\n",
    "\n",
    "<head>\n",
    "    <meta charset=\"UTF-8\">\n",
    "    <meta name=\"viewport\" content=\"width=device-width, initial-scale=1.0\">\n",
    "    <title>ROS Web Dashboard</title>\n",
    "    <script src=\"https://cdn.jsdelivr.net/npm/roslib@1/build/roslib.min.js\"></script>\n",
    "    <script src=\"https://cdnjs.cloudflare.com/ajax/libs/nipplejs/0.9.0/nipplejs.min.js\"></script>\n",
    "    <style>\n",
    "        body {\n",
    "            font-family: Arial, sans-serif;\n",
    "            margin: 0;\n",
    "            padding: 20px;\n",
    "            background-color: #f0f0f0;\n",
    "        }\n",
    "\n",
    "        .dashboard {\n",
    "            display: flex;\n",
    "            flex-wrap: wrap;\n",
    "            gap: 20px;\n",
    "        }\n",
    "\n",
    "        .connection-form {\n",
    "            width: 100%;\n",
    "            margin-bottom: 20px;\n",
    "        }\n",
    "\n",
    "        .joystick-container {\n",
    "            width: 200px;\n",
    "            height: 200px;\n",
    "            background-color: #ddd;\n",
    "            border-radius: 50%;\n",
    "            position: relative;\n",
    "            overflow: hidden;\n",
    "        }\n",
    "\n",
    "        .image-view {\n",
    "            width: 640px;\n",
    "            height: 480px;\n",
    "            background-color: #000;\n",
    "        }\n",
    "\n",
    "        .position-display {\n",
    "            width: 200px;\n",
    "            padding: 10px;\n",
    "            background-color: #fff;\n",
    "            border-radius: 5px;\n",
    "        }\n",
    "    </style>\n",
    "</head>\n",
    "\n",
    "<body>\n",
    "    <div class=\"connection-form\">\n",
    "        <input type=\"text\" id=\"rosbridge-address\" placeholder=\"ws://localhost:9090\">\n",
    "        <button onclick=\"connectToROS()\">Connect</button>\n",
    "    </div>\n",
    "    <div class=\"dashboard\">\n",
    "        <div class=\"joystick-container\" id=\"joystick\"></div>\n",
    "        <img class=\"image-view\" id=\"camera-feed\" alt=\"Camera Feed\">\n",
    "        <div class=\"position-display\">\n",
    "            <h3>Position</h3>\n",
    "            <p>X: <span id=\"position-x\">0</span></p>\n",
    "            <p>Y: <span id=\"position-y\">0</span></p>\n",
    "        </div>\n",
    "    </div>\n",
    "\n",
    "    <script>\n",
    "        let ros;\n",
    "        let cmdVelTopic;\n",
    "        let joystick;\n",
    "\n",
    "        function connectToROS() {\n",
    "            const rosbridgeAddress = document.getElementById('rosbridge-address').value;\n",
    "            ros = new ROSLIB.Ros({\n",
    "                url: rosbridgeAddress\n",
    "            });\n",
    "\n",
    "            ros.on('connection', function () {\n",
    "                console.log('Connected to rosbridge server.');\n",
    "                setupTopics();\n",
    "            });\n",
    "\n",
    "            ros.on('error', function (error) {\n",
    "                console.error('Error connecting to rosbridge server:', error);\n",
    "            });\n",
    "\n",
    "            ros.on('close', function () {\n",
    "                console.log('Connection to rosbridge server closed.');\n",
    "            });\n",
    "        }\n",
    "\n",
    "        function setupTopics() {\n",
    "            // Set up cmd_vel topic\n",
    "            cmdVelTopic = new ROSLIB.Topic({\n",
    "                ros: ros,\n",
    "                name: '/cmd_vel',\n",
    "                messageType: 'geometry_msgs/Twist'\n",
    "            });\n",
    "\n",
    "            // Set up camera topic\n",
    "            const imageTopic = new ROSLIB.Topic({\n",
    "                ros: ros,\n",
    "                name: '/camera/image_raw/compressed',\n",
    "                messageType: 'sensor_msgs/CompressedImage'\n",
    "            });\n",
    "\n",
    "            imageTopic.subscribe(function (message) {\n",
    "                document.getElementById('camera-feed').src = \"data:image/jpeg;base64,\" + message.data;\n",
    "            });\n",
    "\n",
    "            // Set up odometry topic\n",
    "            const odomTopic = new ROSLIB.Topic({\n",
    "                ros: ros,\n",
    "                name: '/odom',\n",
    "                messageType: 'nav_msgs/Odometry'\n",
    "            });\n",
    "\n",
    "            odomTopic.subscribe(function (message) {\n",
    "                document.getElementById('position-x').textContent = message.pose.pose.position.x.toFixed(2);\n",
    "                document.getElementById('position-y').textContent = message.pose.pose.position.y.toFixed(2);\n",
    "            });\n",
    "\n",
    "            // Set up joystick\n",
    "            setupJoystick();\n",
    "        }\n",
    "\n",
    "        function setupJoystick() {\n",
    "            const options = {\n",
    "                zone: document.getElementById('joystick'),\n",
    "                mode: 'static',\n",
    "                position: {left: '50%', top: '50%'},\n",
    "                color: 'blue',\n",
    "                size: 150\n",
    "            };\n",
    "\n",
    "            joystick = nipplejs.create(options);\n",
    "\n",
    "            joystick.on('move', function (evt, data) {\n",
    "                const maxSpeed = 1.0; // m/s\n",
    "                const maxTurn = 1.0; // rad/s\n",
    "\n",
    "                const linear = Math.sin(data.angle.radian) * maxSpeed * data.distance / 75;\n",
    "                const angular = -Math.cos(data.angle.radian) * maxTurn * data.distance / 75;\n",
    "\n",
    "                const twist = new ROSLIB.Message({\n",
    "                    linear: {x: linear, y: 0, z: 0},\n",
    "                    angular: {x: 0, y: 0, z: angular}\n",
    "                });\n",
    "\n",
    "                cmdVelTopic.publish(twist);\n",
    "            });\n",
    "\n",
    "            joystick.on('end', function () {\n",
    "                const twist = new ROSLIB.Message({\n",
    "                    linear: {x: 0, y: 0, z: 0},\n",
    "                    angular: {x: 0, y: 0, z: 0}\n",
    "                });\n",
    "\n",
    "                cmdVelTopic.publish(twist);\n",
    "            });\n",
    "        }\n",
    "    </script>\n",
    "</body>\n",
    "\n",
    "</html>"
   ]
  },
  {
   "cell_type": "markdown",
   "metadata": {},
   "source": [
    "<div>\n",
    "    <h1 class=\"text-center\">\n",
    "        <span class=\"\">Go Further !</span>\n",
    "    </h1>\n",
    "</div>"
   ]
  },
  {
   "cell_type": "markdown",
   "metadata": {},
   "source": [
    "Would you like to control and monitor robots with ROS using just your web browser?\n",
    "\n",
    "The “Developing Web Interfaces for ROS” is the right course for you! We dive, step-by-step, into many different widgets that communicate directly to ROS using only HTML and JavaScript code. You will learn the essential and be able to develop more using the knowledge acquired.\n",
    "\n",
    "What You Will Learn\n",
    "\n",
    "- Understand how to make ROS data available to other environments\n",
    "- Understand how to create simple but efficient web pages\n",
    "- How to publish to topics and control robots from the web\n",
    "- How to subscribe to topics and monitor ROS data from the web\n",
    "- How to work with ROS params from the web\n",
    "- How to consume ROS services and action servers from the web\n",
    "- Create powerful interfaces that show: 3D models, maps and camera images\n",
    "    \n",
    "<a href=\"https://app.theconstruct.ai/courses/42\"><img src=\"images/course_promo.png\" /></a>"
   ]
  },
  {
   "cell_type": "markdown",
   "metadata": {},
   "source": [
    "# Share your work 📨\n",
    "\n",
    "We love seeing what our students do with the things they learn here so please do share what you do on social media and make sure to tag us so we know.\n",
    "\n",
    "[Twitter (X) | @_TheConstruct_](https://twitter.com/_theconstruct_) ![](data:image/png;base64,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)\n",
    "\n",
    "[Facebook | The Construct ](https://www.facebook.com/theconstructsim) ![](data:image/png;base64,iVBORw0KGgoAAAANSUhEUgAAAMwAAADACAMAAAB/Pny7AAAAkFBMVEUIZv////8AY//X4P9jkf8AUv8AWf8ATf8AYf8AX/+9zP/C0/8AXP8AS//j6P/y9v+MqP8AVv/5+//b5P+0yP/P3P8AR//n7f/u8v9Cff+Yr/9skP+guf+tw//L2P+Lq/9ymv9Ng/9/ov8wcP8oav9MeP+nvv9ci/83dP9/nf9ihf90lf+XtP8AMf8AN/9Xf/8pzCdRAAAKnElEQVR4nM3d6ZaquhIA4IgNJpAWQd1OoCK087m+/9td1FZBGZJKBbp+7bXXUvszMWSskI5y+PbMZAZRCIOZka3+h3SI4uuny7VpUhXJPZhpbsZumxh/GM5MS11yC8Myo1HfbwnjLuexyZAot2DmPhgrcMAY194kHkL9ygc144ED5gAxvn1IPKUffSnH22+cRjHOKeZaKDcOjw/jxjCTdcLQK1iOw+LNtBnM3KDaSuXJoUnQAGbM9VWwbBgWmWjGuKd/jVCuQf9tJNs1KYxrE6xHpFBYsVwzLYPpb7jW3/1nMD6QqWviGN++NFostzCsnUThCGPcVcIbt6TB47OwRhQzXDRdxR5B2amPi7H3zVexZ/CfJSbmTFB7x7LBki0e5qA2kFQPylZImOnOa5dyDesk0AzUY4bHFn8ur/AW9U+cWsy4hadLYXi7oSrG+fkjlrSmHetGOTUYe9/Kk7I4rEuNphpjx3/Ikmp+qjWVGCdp9fHyGTzuQjHL+I9Zrp2BqlagAtPd/zlL2hm4VLTQ5ZjJ5Q9aUs2xfBK3FDP9G8/Kz7AWpZoyjHvQbTFeIfdCa1DWsynB+HNtFoMyznnadU3iNPZxnCTG7X+Y4AyWwYISTQkm1DI1lv7RFotnu9NhsDoH4ci+xijcnleDzWlxnO2JZfH6+UWalCzmFGN0NMoGN0l0mG/t8aSo0vvT4dgJg/lht+d1E/KspIEuxLgz7Ad/KonXW2dYP+k67S/tYFajsXaFFa0Q84X8gzFMtra74rPH7qbuD/A2opgz7mDMMJPtUGqFzx3UfpveSAzTN1EtJhvJrh4JYAyv4OspwCSYDRn7FpuLkMWkjYAIZo3YkFH2BVnTE8GQgjmOD4yNVzAG3cNW94UwRvIxuHnHTI9oBWMYX6JTkRAMYbv3n807Zo5XLobUDL48xiDvi2tvmCXaGMagZ/CGCzFMOrZ5G3fmMdMD2qOfl/UG8TCED/LfVx5jo/UvTfGFCDjGSPIz6jnMZIdVMN4XnCKOIdY610fKYUZYz36mtllKGEPMXNFkP3WSIK0nFfY1tGDYLFs0WUyAVTCe4k44cQz5zn5UBjPFWoWx1oq74CQwNM58VgYzRyoYmlROO+JiSC8swrgWVsHMlbbzSWJopjhe/zxjFcxMtWCkMKT3Gqa9MASpYPhc1SKHofEnZos07qei69xYGGI9Nw4+MXukZww/KFskMfTyjnFwKGl3KSz5C7VhDPIYpT0wO6SuPztC9iMqYQhd5zHDH6RaRgsntDRjfqY5zBmpKTMS6DZeBYzx2I1yx7gLpFpGf1T381/DX8k1reyUxTh7pJKhC/k/fTIcO/YoTGM0Gtm2sxyPJQe8dDbOYOZYgzIqOeXXH80P17WMOLm9PEnieP8zi2S/Wxq8MJMTFsao3RKSDft0idl1lYlel89+l9FoGrL1hB/cJ8aJsYb+VILiHBOONOfwW89umC3WtD+dCVPcA5bkGjx8YCZrrFrGhfa4XaN/QV1rsDbuL2aM1S8THy/3kTd+sWj4i7HRFpdMwcll/4S7BpRqnDvGxVsm7wkWzOgb6xMfYW7vmAlWJzN9SzGLi3/Qg1+nA1PMEK1VyQz6KgNtTivz0fvhDeOgvTWPxDBYI/RsmOMrxsdbXBYcZY51bC02wyvG/UJbxrDE5jIGOvZ+8fRJQzoTvEL3xM6JxTqOSFxnnVPMP7Q3NIt2GnyEi7o2//rwSYqx8ZoWU6gDME7QPjAb390Ug7i5pCc0Zh6hfV4u0haAdNDGMilG6OBroOfIhzVIMYg/x57QLPNKD4btOsRHfBqLYdZ6znvRxCcuXmMmiDlpOrzW88mwh/h2QpgvTZh/U4LXMxPGaDrz1RuSELGj1C7GXBLMDcztYryQbBA3yraLsQKCufGvZcyK4I2Z28bwNYkQG8p2MeyL/CC+dcuYHYkR365dDI0I5uCidQw0PPMz/hPCRN8FL80G8MlHZ2DL1vkMW2ileVzwylwAn+MpBljNvqHbfAUCuMIC/818A/dfC4QPHPumGOCimU4McOybYoDPGY2YKXCElT40gT0AjZgucL2DrckXrG+mEbMFDhf5hgDXMzVioCusaa8ZOJ7RiIHOfXkBCWBPKI0Y6HSROSLALfP6MBPoemdvSZZ/DQM+kPDdJ33YF6EPI7k96xX/XOiMpj5M3VHg0jB94v+1BgBaMHTfIZ0Z6KmpDTOFTkryrxQDe0ZpwzjQeTxrlWIC0FehDbOCYkw7xcDaZm2YHfT3n/5FBPiQ0oYBL0Xz62rzFLTbTBdmAsWw6LoPwAW1ALowDhRzTeBCOj6oBdCFCWCU+4YK0oG1ALow4NVbq3vfbwYpWV0Y6Al+OuvfdwJCtjVpwkwvwJKxNvedgKAfjSbMGHoo4brd7L57FtC304QJgY2ZYfzunu10Ab1uTZgBsJaxXf8XU5+ApzEMdFfS/aDr7SxA+FcwU+gKK71t27thlvInzryt/RkjoWNNy4JX/kYA/P2zqPvEuIDSLVps+p/YYlOvdJkJeqMFv+epv59sCnCWnNtbBrwfqLpjAPWsKNrC3M9oPI82LlA2nbSG+T11+osBd1Zz0RLGSEY5zASlnrWEYRc/h8HZONlWyTwOhz0wY4xt4O1gjOSx8v3MB4CRabYdDHtmH3piHIQdge1grOenvnJoIGzWbgXDXmdDX5iR+p7gVjDfr5wd2awtyh/SBobtM4LXP0PlomkDkymYLMZV/tW0gGFRJv1QNouWrXoUtAXMv+wplyxmGil2N5vH8FzCrlyKuKXiVvoWMLnjRzmMarLGxjFWPl1jPnnfUi2RXtMYts+fC8tj3IFS0TSOectv+ZZWcajU32wYw3dvG0Xfc0QGKv2AZjHPAWYpxlfJDdQs5jHyL8d0ugptQKMYGn/sRv5MRXqGF02jGPaZSK0gr2oE1jSJ4afPdy7AuBRa0RrEsKTgnYsy3oJTtzSHMXjRMerC9L0roKY5jFWYRqEQ4y9gsxuNYYpvnyi55WQIuxmkKYz1/uivxAAvBWsIw/YleUfLUl5vIUl7msFQUpaqozR/N2QTayMYg5/L3rk8GTlgoNYIhg9K37kcA+hyNoFhFVmHKtLET4+yZdMAhi8qMltX5byXTg+nH2Mtqg4cVibwl9Vox3i7ysOT1bcRdC9SHRvdmLp7aGuuVuhK3QysGWOeag6H1t0TMVxIaPRizHXdQdfaSy8mEhqtGPNQe9i4/gYP9ySs0YgxvE39bQMi15GsRO+l0IehtLQPI4npBIJ9aG0YJpYGXuyimJHYVdS6MNZFLNm44K03w53ITRt6MJQLXHMug+lMB7S+qmnB8ET4ohHh+4j8sL6q6cB4F6GsiXKYtDdwqqtq+BhqHSQSjcvcFOUGrHpQgI6xSCiTml/u2qv+rPJEBzamF8ll6pC9wyswK9oBXAwTyzGqgOm4UXmme0SMQan8vW+A29XsGSkpHTwMSyLAnTyQq+Lc4FL80MHCMOO4hVxiBbv3rj+/WAUcHAzjxwCWogd6iV83mJkfyzgYGGZGW6k7LDIBv5FwGM56b6WjjmG9KIRSVDBpZbOjfMYrVYxl7hyVHFCKd0WO155p4GCoaW26alfxqGHScMPYouoY6u2lei6F8X8vhrpgZGGaYAAAAABJRU5ErkJggg==)\n"
   ]
  }
 ],
 "metadata": {
  "kernelspec": {
   "display_name": "Python 2",
   "language": "python",
   "name": "python2"
  },
  "language_info": {
   "codemirror_mode": {
    "name": "ipython",
    "version": 2
   },
   "file_extension": ".py",
   "mimetype": "text/x-python",
   "name": "python",
   "nbconvert_exporter": "python",
   "pygments_lexer": "ipython2",
   "version": "2.7.16"
  }
 },
 "nbformat": 4,
 "nbformat_minor": 1
}
